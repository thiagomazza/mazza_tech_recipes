{
  "cells": [
    {
      "cell_type": "markdown",
      "metadata": {
        "id": "dXen6x3rDZJM"
      },
      "source": [
        "# 1 - Instalações, imports"
      ]
    },
    {
      "cell_type": "markdown",
      "metadata": {
        "id": "ehUk6t_c3REf"
      },
      "source": [
        "## 1.0 - Instalação da biblioteca Surprise"
      ]
    },
    {
      "cell_type": "code",
      "execution_count": null,
      "metadata": {
        "id": "kK4eNBij3DRw"
      },
      "outputs": [],
      "source": [
        "pip install surprise"
      ]
    },
    {
      "cell_type": "markdown",
      "metadata": {
        "id": "tktQhfWB3Ws8"
      },
      "source": [
        "## 1.1 - Import das bibliotecas"
      ]
    },
    {
      "cell_type": "code",
      "execution_count": 2,
      "metadata": {
        "id": "S5l-a4l-3cEa"
      },
      "outputs": [],
      "source": [
        "import pandas as pd\n",
        "\n",
        "from surprise                                     import Reader, Dataset\n",
        "from surprise.prediction_algorithms.knns          import KNNBaseline\n",
        "from surprise.model_selection                     import train_test_split\n",
        "from surprise.prediction_algorithms.slope_one     import SlopeOne\n",
        "from surprise.prediction_algorithms.co_clustering import CoClustering\n",
        "from surprise                                     import accuracy"
      ]
    },
    {
      "cell_type": "markdown",
      "metadata": {
        "id": "wVpQldaaAAX1"
      },
      "source": [
        "### 1.2 - Import dos databases"
      ]
    },
    {
      "cell_type": "code",
      "execution_count": 3,
      "metadata": {
        "id": "p4__4HscADBn"
      },
      "outputs": [],
      "source": [
        "recipes = pd.read_csv('RAW_recipes.csv')\n",
        "interactions = pd.read_csv('RAW_interactions.csv')"
      ]
    },
    {
      "cell_type": "markdown",
      "metadata": {
        "id": "Muu8mSd-DiI9"
      },
      "source": [
        "# 2 - Tratamento das bases"
      ]
    },
    {
      "cell_type": "markdown",
      "metadata": {
        "id": "lxxhXTYtDO7r"
      },
      "source": [
        "## 2.1 - Limpeza e visualização do Dataset"
      ]
    },
    {
      "cell_type": "code",
      "execution_count": 4,
      "metadata": {
        "colab": {
          "base_uri": "https://localhost:8080/",
          "height": 293
        },
        "id": "zTcYofQwDnz4",
        "outputId": "3c4aaa4a-ae5e-4a6b-8317-05d0cf1a9563"
      },
      "outputs": [
        {
          "data": {
            "text/html": [
              "<div>\n",
              "<style scoped>\n",
              "    .dataframe tbody tr th:only-of-type {\n",
              "        vertical-align: middle;\n",
              "    }\n",
              "\n",
              "    .dataframe tbody tr th {\n",
              "        vertical-align: top;\n",
              "    }\n",
              "\n",
              "    .dataframe thead th {\n",
              "        text-align: right;\n",
              "    }\n",
              "</style>\n",
              "<table border=\"1\" class=\"dataframe\">\n",
              "  <thead>\n",
              "    <tr style=\"text-align: right;\">\n",
              "      <th></th>\n",
              "      <th>user_id</th>\n",
              "      <th>recipe_id</th>\n",
              "      <th>date</th>\n",
              "      <th>rating</th>\n",
              "      <th>name</th>\n",
              "      <th>minutes</th>\n",
              "      <th>contributor_id</th>\n",
              "      <th>tags</th>\n",
              "      <th>n_steps</th>\n",
              "      <th>description</th>\n",
              "      <th>n_ingredients</th>\n",
              "    </tr>\n",
              "  </thead>\n",
              "  <tbody>\n",
              "    <tr>\n",
              "      <th>0</th>\n",
              "      <td>38094</td>\n",
              "      <td>40893</td>\n",
              "      <td>2003-02-17</td>\n",
              "      <td>4</td>\n",
              "      <td>white bean   green chile pepper soup</td>\n",
              "      <td>495</td>\n",
              "      <td>1533</td>\n",
              "      <td>['weeknight', 'time-to-make', 'course', 'main-...</td>\n",
              "      <td>4</td>\n",
              "      <td>easy soup for the crockpot.</td>\n",
              "      <td>9</td>\n",
              "    </tr>\n",
              "    <tr>\n",
              "      <th>1</th>\n",
              "      <td>1293707</td>\n",
              "      <td>40893</td>\n",
              "      <td>2011-12-21</td>\n",
              "      <td>5</td>\n",
              "      <td>white bean   green chile pepper soup</td>\n",
              "      <td>495</td>\n",
              "      <td>1533</td>\n",
              "      <td>['weeknight', 'time-to-make', 'course', 'main-...</td>\n",
              "      <td>4</td>\n",
              "      <td>easy soup for the crockpot.</td>\n",
              "      <td>9</td>\n",
              "    </tr>\n",
              "    <tr>\n",
              "      <th>2</th>\n",
              "      <td>8937</td>\n",
              "      <td>44394</td>\n",
              "      <td>2002-12-01</td>\n",
              "      <td>4</td>\n",
              "      <td>devilicious cookie cake delights</td>\n",
              "      <td>20</td>\n",
              "      <td>56824</td>\n",
              "      <td>['30-minutes-or-less', 'time-to-make', 'course...</td>\n",
              "      <td>5</td>\n",
              "      <td>NaN</td>\n",
              "      <td>4</td>\n",
              "    </tr>\n",
              "    <tr>\n",
              "      <th>3</th>\n",
              "      <td>126440</td>\n",
              "      <td>85009</td>\n",
              "      <td>2010-02-27</td>\n",
              "      <td>5</td>\n",
              "      <td>baked potato toppings</td>\n",
              "      <td>10</td>\n",
              "      <td>64342</td>\n",
              "      <td>['15-minutes-or-less', 'time-to-make', 'course...</td>\n",
              "      <td>3</td>\n",
              "      <td>these toppings sure makes a nice change from p...</td>\n",
              "      <td>13</td>\n",
              "    </tr>\n",
              "    <tr>\n",
              "      <th>4</th>\n",
              "      <td>57222</td>\n",
              "      <td>85009</td>\n",
              "      <td>2011-10-01</td>\n",
              "      <td>5</td>\n",
              "      <td>baked potato toppings</td>\n",
              "      <td>10</td>\n",
              "      <td>64342</td>\n",
              "      <td>['15-minutes-or-less', 'time-to-make', 'course...</td>\n",
              "      <td>3</td>\n",
              "      <td>these toppings sure makes a nice change from p...</td>\n",
              "      <td>13</td>\n",
              "    </tr>\n",
              "  </tbody>\n",
              "</table>\n",
              "</div>"
            ],
            "text/plain": [
              "   user_id  recipe_id        date  rating  \\\n",
              "0    38094      40893  2003-02-17       4   \n",
              "1  1293707      40893  2011-12-21       5   \n",
              "2     8937      44394  2002-12-01       4   \n",
              "3   126440      85009  2010-02-27       5   \n",
              "4    57222      85009  2011-10-01       5   \n",
              "\n",
              "                                   name  minutes  contributor_id  \\\n",
              "0  white bean   green chile pepper soup      495            1533   \n",
              "1  white bean   green chile pepper soup      495            1533   \n",
              "2      devilicious cookie cake delights       20           56824   \n",
              "3                 baked potato toppings       10           64342   \n",
              "4                 baked potato toppings       10           64342   \n",
              "\n",
              "                                                tags  n_steps  \\\n",
              "0  ['weeknight', 'time-to-make', 'course', 'main-...        4   \n",
              "1  ['weeknight', 'time-to-make', 'course', 'main-...        4   \n",
              "2  ['30-minutes-or-less', 'time-to-make', 'course...        5   \n",
              "3  ['15-minutes-or-less', 'time-to-make', 'course...        3   \n",
              "4  ['15-minutes-or-less', 'time-to-make', 'course...        3   \n",
              "\n",
              "                                         description  n_ingredients  \n",
              "0                        easy soup for the crockpot.              9  \n",
              "1                        easy soup for the crockpot.              9  \n",
              "2                                                NaN              4  \n",
              "3  these toppings sure makes a nice change from p...             13  \n",
              "4  these toppings sure makes a nice change from p...             13  "
            ]
          },
          "execution_count": 4,
          "metadata": {},
          "output_type": "execute_result"
        }
      ],
      "source": [
        "# Juntando as bases\n",
        "receitas = interactions.join(recipes.set_index('id'), on='recipe_id')\n",
        "\n",
        "# Removendo algumas colunas que não serão necessárias\n",
        "colunas_para_remover = ['review', 'nutrition', 'steps', 'ingredients', 'submitted']\n",
        "receitas_limpa = receitas.drop(columns=colunas_para_remover)\n",
        "receitas_limpa.head()"
      ]
    },
    {
      "cell_type": "code",
      "execution_count": 29,
      "metadata": {},
      "outputs": [],
      "source": [
        "# Devido ao tamanho do dataframe se faz necessário reduzir o mesmo para não gerar estouro de memória\n",
        "frac = 0.09  # proporção da amostra (10%)\n",
        "receitas_amostradas = receitas_limpa.sample(frac=frac, random_state=42)  # seleção dos dados de forma aleatória"
      ]
    },
    {
      "cell_type": "code",
      "execution_count": 30,
      "metadata": {
        "colab": {
          "base_uri": "https://localhost:8080/"
        },
        "id": "y6HviYcrEBNm",
        "outputId": "28b25147-0767-4585-9092-408aa9ffb4be"
      },
      "outputs": [
        {
          "name": "stdout",
          "output_type": "stream",
          "text": [
            "Quantidade de receitas:  58505\n",
            "Quantidade de usuários avaliando:  38162\n",
            "Quantidade de Avaliações:  99797\n"
          ]
        }
      ],
      "source": [
        "# Fazendo uma breve análise\n",
        "print('Quantidade de receitas: ',\n",
        "       receitas_amostradas['recipe_id'].value_counts().shape[0] )\n",
        "\n",
        "print('Quantidade de usuários avaliando: ',\n",
        "       receitas_amostradas['user_id'].value_counts().shape[0] )\n",
        "\n",
        "print('Quantidade de Avaliações: ',\n",
        "       receitas_amostradas.value_counts().shape[0] )"
      ]
    },
    {
      "cell_type": "code",
      "execution_count": 31,
      "metadata": {
        "colab": {
          "base_uri": "https://localhost:8080/",
          "height": 363
        },
        "id": "EaD8Y602HaK9",
        "outputId": "4b7a09ef-3744-46dc-b15a-3a791608a0d4"
      },
      "outputs": [
        {
          "data": {
            "text/html": [
              "<div>\n",
              "<style scoped>\n",
              "    .dataframe tbody tr th:only-of-type {\n",
              "        vertical-align: middle;\n",
              "    }\n",
              "\n",
              "    .dataframe tbody tr th {\n",
              "        vertical-align: top;\n",
              "    }\n",
              "\n",
              "    .dataframe thead th {\n",
              "        text-align: right;\n",
              "    }\n",
              "</style>\n",
              "<table border=\"1\" class=\"dataframe\">\n",
              "  <thead>\n",
              "    <tr style=\"text-align: right;\">\n",
              "      <th></th>\n",
              "      <th>recipe_id</th>\n",
              "      <th>name</th>\n",
              "      <th>rating</th>\n",
              "    </tr>\n",
              "  </thead>\n",
              "  <tbody>\n",
              "    <tr>\n",
              "      <th>592612</th>\n",
              "      <td>32614</td>\n",
              "      <td>fudge crinkles  a great 4 ingredient cake mix ...</td>\n",
              "      <td>5</td>\n",
              "    </tr>\n",
              "    <tr>\n",
              "      <th>676100</th>\n",
              "      <td>27630</td>\n",
              "      <td>shortbread fruit tartlets</td>\n",
              "      <td>5</td>\n",
              "    </tr>\n",
              "    <tr>\n",
              "      <th>933645</th>\n",
              "      <td>11150</td>\n",
              "      <td>cherry angel</td>\n",
              "      <td>5</td>\n",
              "    </tr>\n",
              "    <tr>\n",
              "      <th>372723</th>\n",
              "      <td>301380</td>\n",
              "      <td>cinnamon swirl muffins</td>\n",
              "      <td>5</td>\n",
              "    </tr>\n",
              "    <tr>\n",
              "      <th>764877</th>\n",
              "      <td>81289</td>\n",
              "      <td>chocolate lemonade</td>\n",
              "      <td>5</td>\n",
              "    </tr>\n",
              "    <tr>\n",
              "      <th>897489</th>\n",
              "      <td>62524</td>\n",
              "      <td>pork with pineapple</td>\n",
              "      <td>5</td>\n",
              "    </tr>\n",
              "    <tr>\n",
              "      <th>478652</th>\n",
              "      <td>43509</td>\n",
              "      <td>crumb topped banana muffins</td>\n",
              "      <td>5</td>\n",
              "    </tr>\n",
              "    <tr>\n",
              "      <th>925448</th>\n",
              "      <td>25625</td>\n",
              "      <td>now don t go  eeewww    before you try this</td>\n",
              "      <td>5</td>\n",
              "    </tr>\n",
              "    <tr>\n",
              "      <th>494679</th>\n",
              "      <td>208414</td>\n",
              "      <td>barefoot contessa s blueberry crumb cake</td>\n",
              "      <td>5</td>\n",
              "    </tr>\n",
              "    <tr>\n",
              "      <th>1059141</th>\n",
              "      <td>199527</td>\n",
              "      <td>fast microwave fudge  nut free</td>\n",
              "      <td>5</td>\n",
              "    </tr>\n",
              "  </tbody>\n",
              "</table>\n",
              "</div>"
            ],
            "text/plain": [
              "         recipe_id                                               name  rating\n",
              "592612       32614  fudge crinkles  a great 4 ingredient cake mix ...       5\n",
              "676100       27630                          shortbread fruit tartlets       5\n",
              "933645       11150                                       cherry angel       5\n",
              "372723      301380                             cinnamon swirl muffins       5\n",
              "764877       81289                                 chocolate lemonade       5\n",
              "897489       62524                                pork with pineapple       5\n",
              "478652       43509                        crumb topped banana muffins       5\n",
              "925448       25625        now don t go  eeewww    before you try this       5\n",
              "494679      208414           barefoot contessa s blueberry crumb cake       5\n",
              "1059141     199527                     fast microwave fudge  nut free       5"
            ]
          },
          "execution_count": 31,
          "metadata": {},
          "output_type": "execute_result"
        }
      ],
      "source": [
        "# Receitas mais bem avaliadas\n",
        "melhores_receitas = receitas_amostradas.sort_values(by='rating', ascending=False).head(10)\n",
        "melhores_receitas[['recipe_id', 'name', 'rating']]"
      ]
    },
    {
      "cell_type": "markdown",
      "metadata": {
        "id": "Up0s4jpZ3ioS"
      },
      "source": []
    },
    {
      "cell_type": "markdown",
      "metadata": {},
      "source": [
        "# 3.0 - Modelos e Treinamentos - Surprise"
      ]
    },
    {
      "cell_type": "markdown",
      "metadata": {},
      "source": [
        "## 3.1 - Divisão dos dados para treinamento"
      ]
    },
    {
      "cell_type": "code",
      "execution_count": 32,
      "metadata": {},
      "outputs": [],
      "source": [
        "# Configuração para treinamento\n",
        "reader = Reader(rating_scale=(0,5))\n",
        "# Seleção das variáveis para o modelo\n",
        "data = Dataset.load_from_df(receitas_amostradas[['user_id', 'recipe_id', 'rating']], reader)\n",
        "# Divisão dos dados de treino e teste\n",
        "trainset, testset = train_test_split(data, test_size=.25, random_state=42)\n",
        "# Configurações das medidas de similaridade\n",
        "sim_options = { 'name': 'pearson_baseline', 'user_based': True }"
      ]
    },
    {
      "cell_type": "markdown",
      "metadata": {},
      "source": [
        "## 3.2 - Treinamento do Modelo\n",
        "\n",
        "#### Faremos aqui treinamento em 3 tipos de modelo para analisar qual terá a melhor acurácia para podermos utilizar"
      ]
    },
    {
      "cell_type": "code",
      "execution_count": 33,
      "metadata": {},
      "outputs": [
        {
          "name": "stdout",
          "output_type": "stream",
          "text": [
            "Estimating biases using als...\n",
            "Computing the pearson_baseline similarity matrix...\n",
            "Done computing similarity matrix.\n"
          ]
        },
        {
          "data": {
            "text/plain": [
              "<surprise.prediction_algorithms.knns.KNNBaseline at 0x20751dc00d0>"
            ]
          },
          "execution_count": 33,
          "metadata": {},
          "output_type": "execute_result"
        }
      ],
      "source": [
        "# Criação do modelo\n",
        "knn = KNNBaseline(k=33, sim_options=sim_options)\n",
        "# Treinamento do modelo\n",
        "knn.fit(trainset)"
      ]
    },
    {
      "cell_type": "code",
      "execution_count": 34,
      "metadata": {},
      "outputs": [
        {
          "data": {
            "text/plain": [
              "<surprise.prediction_algorithms.slope_one.SlopeOne at 0x20703f73550>"
            ]
          },
          "execution_count": 34,
          "metadata": {},
          "output_type": "execute_result"
        }
      ],
      "source": [
        "# Criação do modelo\n",
        "slo = SlopeOne()\n",
        "# Treinamento do modelo\n",
        "slo.fit(trainset)"
      ]
    },
    {
      "cell_type": "code",
      "execution_count": 35,
      "metadata": {},
      "outputs": [
        {
          "name": "stdout",
          "output_type": "stream",
          "text": [
            "Processing epoch 0\n",
            "Processing epoch 1\n",
            "Processing epoch 2\n",
            "Processing epoch 3\n",
            "Processing epoch 4\n",
            "Processing epoch 5\n",
            "Processing epoch 6\n",
            "Processing epoch 7\n",
            "Processing epoch 8\n",
            "Processing epoch 9\n"
          ]
        },
        {
          "data": {
            "text/plain": [
              "<surprise.prediction_algorithms.co_clustering.CoClustering at 0x20703f7cf50>"
            ]
          },
          "execution_count": 35,
          "metadata": {},
          "output_type": "execute_result"
        }
      ],
      "source": [
        "# Criação do modelo\n",
        "co = CoClustering(n_epochs=10, verbose=True, random_state=42)\n",
        "# Treinamento do modelo\n",
        "co.fit(trainset)"
      ]
    },
    {
      "cell_type": "markdown",
      "metadata": {},
      "source": [
        "## 3.3 - Avaliar a acurácia dos modelos"
      ]
    },
    {
      "cell_type": "code",
      "execution_count": 40,
      "metadata": {},
      "outputs": [
        {
          "name": "stdout",
          "output_type": "stream",
          "text": [
            "RMSE: 1.2715\n"
          ]
        },
        {
          "data": {
            "text/plain": [
              "1.2714693201470446"
            ]
          },
          "execution_count": 40,
          "metadata": {},
          "output_type": "execute_result"
        }
      ],
      "source": [
        "# Acurácia KNNBaseline\n",
        "predictions_knn = knn.test(testset)\n",
        "accuracy.rmse(predictions_knn)"
      ]
    },
    {
      "cell_type": "code",
      "execution_count": 41,
      "metadata": {},
      "outputs": [
        {
          "name": "stdout",
          "output_type": "stream",
          "text": [
            "RMSE: 1.3228\n"
          ]
        },
        {
          "data": {
            "text/plain": [
              "1.3227736569478397"
            ]
          },
          "execution_count": 41,
          "metadata": {},
          "output_type": "execute_result"
        }
      ],
      "source": [
        "# Acurácia SlopeOne\n",
        "predictions_slo = slo.test(testset)\n",
        "accuracy.rmse(predictions_slo)"
      ]
    },
    {
      "cell_type": "code",
      "execution_count": 42,
      "metadata": {},
      "outputs": [
        {
          "name": "stdout",
          "output_type": "stream",
          "text": [
            "RMSE: 1.3832\n"
          ]
        },
        {
          "data": {
            "text/plain": [
              "1.3831713599422963"
            ]
          },
          "execution_count": 42,
          "metadata": {},
          "output_type": "execute_result"
        }
      ],
      "source": [
        "# Acurácia CoClustering\n",
        "predictions_co = co.test(testset)\n",
        "accuracy.rmse(predictions_co)"
      ]
    },
    {
      "cell_type": "markdown",
      "metadata": {},
      "source": [
        "# 4.0 - Função para gerar as melhores recomendações\n",
        "\n",
        "#### Conforme é possível verificar nos códigos acima o algoritmo que obteve a melhor performance foi o KNN, iremos utilizar ele"
      ]
    },
    {
      "cell_type": "code",
      "execution_count": 46,
      "metadata": {},
      "outputs": [],
      "source": [
        "def top_n(user_id,n):\n",
        "  # Selecionando apenas as receitas do treinamento\n",
        "  lista_receitas_treino = []\n",
        "  for x in trainset.all_items():\n",
        "    lista_receitas_treino.append(trainset.to_raw_iid(x))\n",
        "  # Selecionando as receitas do treinamento que o usuário não avaliou\n",
        "  receitas_user = receitas_amostradas.query('user_id == @user_id')['recipe_id'].values\n",
        "  receitas_user_nao = receitas_amostradas.query('recipe_id not in @receitas_user')\n",
        "  receitas_user_nao = receitas_user_nao.query('recipe_id in @lista_receitas_treino')['recipe_id'].values\n",
        "  # Criando um ranking para o usuário para as receitas não avaliados\n",
        "  ranking=[]\n",
        "  for recipe_id in receitas_user_nao:\n",
        "    ranking.append((recipe_id, knn.predict(trainset.to_inner_uid(user_id), trainset.to_inner_iid(recipe_id))[3]))\n",
        "  # Ordenando as TOP receitas avaliados\n",
        "  ranking.sort(key=lambda x: x[1], reverse=True)\n",
        "  # Selecionando os Ids das receitas\n",
        "  x,_ = zip(*ranking[:n])\n",
        "  # Listando os nomes das receitas em ordem de recomendação\n",
        "  return receitas_amostradas.query('recipe_id in @x')['name'].copy().reset_index(drop=True)"
      ]
    },
    {
      "cell_type": "code",
      "execution_count": 44,
      "metadata": {},
      "outputs": [
        {
          "data": {
            "text/html": [
              "<div>\n",
              "<style scoped>\n",
              "    .dataframe tbody tr th:only-of-type {\n",
              "        vertical-align: middle;\n",
              "    }\n",
              "\n",
              "    .dataframe tbody tr th {\n",
              "        vertical-align: top;\n",
              "    }\n",
              "\n",
              "    .dataframe thead th {\n",
              "        text-align: right;\n",
              "    }\n",
              "</style>\n",
              "<table border=\"1\" class=\"dataframe\">\n",
              "  <thead>\n",
              "    <tr style=\"text-align: right;\">\n",
              "      <th></th>\n",
              "      <th>user_id</th>\n",
              "      <th>recipe_id</th>\n",
              "      <th>date</th>\n",
              "      <th>rating</th>\n",
              "      <th>name</th>\n",
              "      <th>minutes</th>\n",
              "      <th>contributor_id</th>\n",
              "      <th>tags</th>\n",
              "      <th>n_steps</th>\n",
              "      <th>description</th>\n",
              "      <th>n_ingredients</th>\n",
              "    </tr>\n",
              "  </thead>\n",
              "  <tbody>\n",
              "    <tr>\n",
              "      <th>592612</th>\n",
              "      <td>764278</td>\n",
              "      <td>32614</td>\n",
              "      <td>2012-12-22</td>\n",
              "      <td>5</td>\n",
              "      <td>fudge crinkles  a great 4 ingredient cake mix ...</td>\n",
              "      <td>15</td>\n",
              "      <td>37305</td>\n",
              "      <td>['15-minutes-or-less', 'time-to-make', 'course...</td>\n",
              "      <td>20</td>\n",
              "      <td>these are chewy, fudgy, super easy cookies tha...</td>\n",
              "      <td>4</td>\n",
              "    </tr>\n",
              "    <tr>\n",
              "      <th>613724</th>\n",
              "      <td>51546</td>\n",
              "      <td>57355</td>\n",
              "      <td>2008-12-27</td>\n",
              "      <td>5</td>\n",
              "      <td>mashed baked potatoes</td>\n",
              "      <td>60</td>\n",
              "      <td>73242</td>\n",
              "      <td>['60-minutes-or-less', 'time-to-make', 'main-i...</td>\n",
              "      <td>6</td>\n",
              "      <td>i got this recipe from my sister who is a grea...</td>\n",
              "      <td>6</td>\n",
              "    </tr>\n",
              "    <tr>\n",
              "      <th>877117</th>\n",
              "      <td>133174</td>\n",
              "      <td>241394</td>\n",
              "      <td>2007-08-06</td>\n",
              "      <td>4</td>\n",
              "      <td>black and red mexican slow cooker soup</td>\n",
              "      <td>500</td>\n",
              "      <td>305147</td>\n",
              "      <td>['course', 'main-ingredient', 'cuisine', 'prep...</td>\n",
              "      <td>4</td>\n",
              "      <td>this is a staple in our house.  serve it with ...</td>\n",
              "      <td>11</td>\n",
              "    </tr>\n",
              "    <tr>\n",
              "      <th>269484</th>\n",
              "      <td>1134625</td>\n",
              "      <td>169227</td>\n",
              "      <td>2010-05-11</td>\n",
              "      <td>5</td>\n",
              "      <td>chicken   barley casserole</td>\n",
              "      <td>75</td>\n",
              "      <td>216999</td>\n",
              "      <td>['time-to-make', 'course', 'main-ingredient', ...</td>\n",
              "      <td>18</td>\n",
              "      <td>this is one of my family's favorite recipes.  ...</td>\n",
              "      <td>13</td>\n",
              "    </tr>\n",
              "    <tr>\n",
              "      <th>366684</th>\n",
              "      <td>51011</td>\n",
              "      <td>121093</td>\n",
              "      <td>2006-09-26</td>\n",
              "      <td>5</td>\n",
              "      <td>mushroom sauce for meatballs</td>\n",
              "      <td>20</td>\n",
              "      <td>59780</td>\n",
              "      <td>['30-minutes-or-less', 'time-to-make', 'course...</td>\n",
              "      <td>8</td>\n",
              "      <td>adapted from company's coming make ahead meals...</td>\n",
              "      <td>11</td>\n",
              "    </tr>\n",
              "  </tbody>\n",
              "</table>\n",
              "</div>"
            ],
            "text/plain": [
              "        user_id  recipe_id        date  rating  \\\n",
              "592612   764278      32614  2012-12-22       5   \n",
              "613724    51546      57355  2008-12-27       5   \n",
              "877117   133174     241394  2007-08-06       4   \n",
              "269484  1134625     169227  2010-05-11       5   \n",
              "366684    51011     121093  2006-09-26       5   \n",
              "\n",
              "                                                     name  minutes  \\\n",
              "592612  fudge crinkles  a great 4 ingredient cake mix ...       15   \n",
              "613724                              mashed baked potatoes       60   \n",
              "877117             black and red mexican slow cooker soup      500   \n",
              "269484                         chicken   barley casserole       75   \n",
              "366684                       mushroom sauce for meatballs       20   \n",
              "\n",
              "        contributor_id                                               tags  \\\n",
              "592612           37305  ['15-minutes-or-less', 'time-to-make', 'course...   \n",
              "613724           73242  ['60-minutes-or-less', 'time-to-make', 'main-i...   \n",
              "877117          305147  ['course', 'main-ingredient', 'cuisine', 'prep...   \n",
              "269484          216999  ['time-to-make', 'course', 'main-ingredient', ...   \n",
              "366684           59780  ['30-minutes-or-less', 'time-to-make', 'course...   \n",
              "\n",
              "        n_steps                                        description  \\\n",
              "592612       20  these are chewy, fudgy, super easy cookies tha...   \n",
              "613724        6  i got this recipe from my sister who is a grea...   \n",
              "877117        4  this is a staple in our house.  serve it with ...   \n",
              "269484       18  this is one of my family's favorite recipes.  ...   \n",
              "366684        8  adapted from company's coming make ahead meals...   \n",
              "\n",
              "        n_ingredients  \n",
              "592612              4  \n",
              "613724              6  \n",
              "877117             11  \n",
              "269484             13  \n",
              "366684             11  "
            ]
          },
          "execution_count": 44,
          "metadata": {},
          "output_type": "execute_result"
        }
      ],
      "source": [
        "receitas_amostradas.head()"
      ]
    },
    {
      "cell_type": "code",
      "execution_count": 48,
      "metadata": {},
      "outputs": [
        {
          "data": {
            "text/plain": [
              "0    salmon with balsamic vinegar sauce\n",
              "1    salmon with balsamic vinegar sauce\n",
              "2     stir fried shrimp in garlic sauce\n",
              "3     stir fried shrimp in garlic sauce\n",
              "4     stir fried shrimp in garlic sauce\n",
              "Name: name, dtype: object"
            ]
          },
          "execution_count": 48,
          "metadata": {},
          "output_type": "execute_result"
        }
      ],
      "source": [
        "# Chamando a função\n",
        "id_input = input(\"Informe o ID do usuário para indicar as 5 melhores receitas: \")\n",
        "\n",
        "top_n(764278, 5) # passando o id do usuário e a quantidade de receitas a ser exibida"
      ]
    }
  ],
  "metadata": {
    "colab": {
      "provenance": []
    },
    "kernelspec": {
      "display_name": "Python 3",
      "name": "python3"
    },
    "language_info": {
      "codemirror_mode": {
        "name": "ipython",
        "version": 3
      },
      "file_extension": ".py",
      "mimetype": "text/x-python",
      "name": "python",
      "nbconvert_exporter": "python",
      "pygments_lexer": "ipython3",
      "version": "3.11.4"
    }
  },
  "nbformat": 4,
  "nbformat_minor": 0
}
